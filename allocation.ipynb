{
 "cells": [
  {
   "cell_type": "code",
   "execution_count": 1,
   "metadata": {},
   "outputs": [
    {
     "name": "stderr",
     "output_type": "stream",
     "text": [
      "/tmp/ipykernel_1699/1662815981.py:2: DeprecationWarning: \n",
      "Pyarrow will become a required dependency of pandas in the next major release of pandas (pandas 3.0),\n",
      "(to allow more performant data types, such as the Arrow string type, and better interoperability with other libraries)\n",
      "but was not found to be installed on your system.\n",
      "If this would cause problems for you,\n",
      "please provide us feedback at https://github.com/pandas-dev/pandas/issues/54466\n",
      "        \n",
      "  import pandas as pd\n"
     ]
    }
   ],
   "source": [
    "import numpy as np\n",
    "import pandas as pd"
   ]
  },
  {
   "cell_type": "code",
   "execution_count": 2,
   "metadata": {},
   "outputs": [
    {
     "name": "stdout",
     "output_type": "stream",
     "text": [
      "CURRENT 1000000\n",
      " current_value [0. 0. 0. 0. 0.]\n",
      "  value_alloc [200000. 300000. 400000. 100000.      0.]\n",
      "  portfolio [200000.         100000.          80000.          14285.71428571\n",
      "      0.        ]\n",
      "  price [1 3 5 7 1]\n",
      "CURRENT 1125714.2857142857\n",
      " current_value [400000.         400000.         240000.          85714.28571429\n",
      "      0.        ]\n",
      "  value_alloc [112571.42857143 225142.85714286 337714.28571429 450285.71428571\n",
      "      0.        ]\n",
      "  portfolio [ 56285.71428571  56285.71428571 112571.42857143  75047.61904762\n",
      "      0.        ]\n",
      "  price [2 4 3 6 1]\n",
      "CURRENT 1744857.1428571432\n",
      " current_value [450285.71428571 281428.57142857 788000.         225142.85714286\n",
      "      0.        ]\n",
      "  value_alloc [697942.85714286 523457.14285714 348971.42857143 174485.71428571\n",
      "      0.        ]\n",
      "  portfolio [ 87242.85714286 104691.42857143  49853.06122449  58161.9047619\n",
      "      0.        ]\n",
      "  price [8 5 7 3 1]\n"
     ]
    }
   ],
   "source": [
    "weights = np.array([\n",
    "    [0.2, 0.3, 0.4, 0.1, 0],\n",
    "    [0.1, 0.2, 0.3, 0.4, 0],\n",
    "    [0.4, 0.3, 0.2, 0.1, 0],\n",
    "])\n",
    "weights\n",
    "\n",
    "price = np.array([\n",
    "    [1, 3, 5, 7, 1],\n",
    "    [2, 4, 3, 6, 1],\n",
    "    [8, 5, 7, 3, 1],\n",
    "])\n",
    "\n",
    "allocations = np.zeros(shape=(3,5)) # additional column for cash\n",
    "initial = 1000 * 1000\n",
    "current_value = initial\n",
    "\n",
    "for i in range(weights.shape[0]):\n",
    "    current_value = current_value or (allocations[i-1,:] * price[i,:]).sum(axis=0)\n",
    "    value_alloc = current_value * weights[i,:]\n",
    "    share_alloc = value_alloc / price[i,:]\n",
    "    allocations[i] = share_alloc\n",
    "    print('CURRENT', current_value)\n",
    "    print( ' current_value', (allocations[i-1,:] * price[i,:]))\n",
    "    print('  value_alloc', value_alloc)\n",
    "    print('  portfolio', allocations[i])\n",
    "    print('  price', price[i])\n",
    "    current_value = None\n"
   ]
  },
  {
   "cell_type": "code",
   "execution_count": 3,
   "metadata": {},
   "outputs": [
    {
     "data": {
      "text/plain": [
       "array([1000000.        , 1125714.28571429, 1744857.14285714])"
      ]
     },
     "execution_count": 3,
     "metadata": {},
     "output_type": "execute_result"
    }
   ],
   "source": [
    "(allocations * price).sum(axis=1)"
   ]
  }
 ],
 "metadata": {
  "kernelspec": {
   "display_name": "env",
   "language": "python",
   "name": "python3"
  },
  "language_info": {
   "codemirror_mode": {
    "name": "ipython",
    "version": 3
   },
   "file_extension": ".py",
   "mimetype": "text/x-python",
   "name": "python",
   "nbconvert_exporter": "python",
   "pygments_lexer": "ipython3",
   "version": "3.9.5"
  }
 },
 "nbformat": 4,
 "nbformat_minor": 2
}
